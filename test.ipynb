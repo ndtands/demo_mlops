{
 "cells": [
  {
   "cell_type": "code",
   "execution_count": 15,
   "metadata": {},
   "outputs": [],
   "source": [
    "import pandas as pd\n",
    "import json\n",
    "import wandb"
   ]
  },
  {
   "cell_type": "code",
   "execution_count": 16,
   "metadata": {},
   "outputs": [
    {
     "name": "stderr",
     "output_type": "stream",
     "text": [
      "Failed to detect the name of this notebook, you can set it manually with the WANDB_NOTEBOOK_NAME environment variable to enable code saving.\n",
      "\u001b[34m\u001b[1mwandb\u001b[0m: Currently logged in as: \u001b[33mndtan-udemy\u001b[0m. Use \u001b[1m`wandb login --relogin`\u001b[0m to force relogin\n"
     ]
    },
    {
     "data": {
      "text/html": [
       "Tracking run with wandb version 0.13.10"
      ],
      "text/plain": [
       "<IPython.core.display.HTML object>"
      ]
     },
     "metadata": {},
     "output_type": "display_data"
    },
    {
     "data": {
      "text/html": [
       "Run data is saved locally in <code>c:\\Users\\Administrator\\Desktop\\TechSharing\\src\\wandb\\run-20230224_143401-p4v00b36</code>"
      ],
      "text/plain": [
       "<IPython.core.display.HTML object>"
      ]
     },
     "metadata": {},
     "output_type": "display_data"
    },
    {
     "data": {
      "text/html": [
       "Syncing run <strong><a href='https://wandb.ai/ndtan-udemy/mlops/runs/p4v00b36' target=\"_blank\">clear-mountain-8</a></strong> to <a href='https://wandb.ai/ndtan-udemy/mlops' target=\"_blank\">Weights & Biases</a> (<a href='https://wandb.me/run' target=\"_blank\">docs</a>)<br/>"
      ],
      "text/plain": [
       "<IPython.core.display.HTML object>"
      ]
     },
     "metadata": {},
     "output_type": "display_data"
    },
    {
     "data": {
      "text/html": [
       " View project at <a href='https://wandb.ai/ndtan-udemy/mlops' target=\"_blank\">https://wandb.ai/ndtan-udemy/mlops</a>"
      ],
      "text/plain": [
       "<IPython.core.display.HTML object>"
      ]
     },
     "metadata": {},
     "output_type": "display_data"
    },
    {
     "data": {
      "text/html": [
       " View run at <a href='https://wandb.ai/ndtan-udemy/mlops/runs/p4v00b36' target=\"_blank\">https://wandb.ai/ndtan-udemy/mlops/runs/p4v00b36</a>"
      ],
      "text/plain": [
       "<IPython.core.display.HTML object>"
      ]
     },
     "metadata": {},
     "output_type": "display_data"
    },
    {
     "name": "stderr",
     "output_type": "stream",
     "text": [
      "\u001b[34m\u001b[1mwandb\u001b[0m:   1 of 1 files downloaded.  \n"
     ]
    }
   ],
   "source": [
    "run = wandb.init(project='mlops', job_type=\"data-validation\")\n",
    "# Pull down that dataset you logged in the last run\n",
    "artifact = run.use_artifact('raw-dataset:latest')\n",
    "artifact_data = artifact.get(\"raw-dataset\")\n",
    "df = pd.DataFrame(columns=artifact_data.columns, data=artifact_data.data)\n"
   ]
  },
  {
   "cell_type": "code",
   "execution_count": 18,
   "metadata": {},
   "outputs": [
    {
     "data": {
      "text/plain": [
       "31357"
      ]
     },
     "execution_count": 18,
     "metadata": {},
     "output_type": "execute_result"
    }
   ],
   "source": [
    "len(df)"
   ]
  },
  {
   "cell_type": "code",
   "execution_count": 19,
   "metadata": {},
   "outputs": [],
   "source": [
    "df.drop(['_id', '_url', 'datetime'], axis=1, inplace=True)"
   ]
  },
  {
   "cell_type": "code",
   "execution_count": 35,
   "metadata": {},
   "outputs": [],
   "source": [
    "_CLASS = ['Ranger', 'Morning', 'Vios', 'Innova', 'Camry', 'C class', 'i10', 'Fortuner', 'SantaFe', 'E class', '3', 'GLC', 'Everest', 'Accent', 'CX5', 'Corolla altis', 'CRV', 'Lux A 2.0', 'S class', 'Cerato', 'Spark', 'RX', 'Tucson', 'City', 'Civic', 'Fadil', 'Xpander', 'Elantra', 'Lux SA 2.0', 'Corolla Cross', 'Yaris', 'Lacetti', 'Cruze', 'Transit', '6', 'Explorer', 'EcoSport', 'Prado', 'K3', 'Triton', 'Sorento', '5 Series', 'Range Rover', 'Outlander', 'Land Cruiser', 'BT50', 'Seltos', 'LX', '-', '3 Series', '2', 'Matiz', 'Focus', 'Attrage', 'Cayenne', 'Jolie', 'Captiva', 'Getz', 'ZS', 'Carens', 'Navara', 'Creta', 'Soluto', 'Escape', 'Hilux', 'Forte', 'XL7', 'Veloz', 'ES', 'Carnival', 'Khác', 'Rio', 'CX8', 'Zace', 'Pajero Sport', 'Swift', 'Wigo', 'Kona', '7 Series', 'Gentra', 'Rondo', 'Range Rover Evoque', 'Super Carry Truck', 'Macan', 'Panamera', 'Fiesta', 'GX', 'Dmax', '3008', 'Frontier', 'Carry', 'Porter', 'Aveo', 'Avanza', 'Accord', 'Almera', 'Sonet', 'Tiguan', 'X5', 'Hiace', 'G class', 'Avante', 'Raize', 'Super Carry Van', 'Colorado', 'Cooper', 'GLS', 'Ertiga', 'Laser', 'Sienna', 'Brio', 'Rush', 'HS', 'VF e34', 'Corolla', 'Mondeo', 'XC90', 'Q7', '5', 'NX', 'Grandis', 'Sedona', 'QKR', 'Maybach', 'cx3', 'Forester', 'Pajero', 'X6', 'LS', 'i20', 'Sunny', 'XC60', 'Optima', '5008', 'Nubira', 'K3000S', 'Towner', 'MU-X', 'County', 'GLE Class', 'GLB', '323', 'Lanos', 'GL', 'X trail', 'Orlando', 'Wrangler', 'Mighty', 'V class', 'X1', 'Polo', 'Grand Starex', 'Range Rover Sport', 'HD', 'CLA class', 'Q5', 'HRV', 'Venza', 'CX 30', 'Spectra', 'Vivant', '2008', 'Sonata', 'Teana', 'A4', '626', 'A6', 'X4', 'K5', 'Sprinter', 'Ciaz', 'VF9', 'Jazz', 'Flying Spur', 'X7', 'GLK Class', 'Hi lander', 'i30', 'Pride', 'X3', 'VF8', 'Z4', 'GLA class', 'F150', 'RAV4', 'Zinger', 'Levante', 'Phantom', 'XC40', 'Vitara', 'Teramont', 'K2700', 'Ghost', 'Magnus', 'Starex', 'MDX', '4 Series', 'Citivan', '718', 'Alphard', 'Verna', 'Lancer', 'IS', 'Mulsanne', 'Cressida', 'Passat', 'Mirage', 'Siena', 'A8', 'Grand livina', 'Ollin', 'Celerio', 'Tourneo', 'Picanto', 'Forland', 'Musso', 'Sportage', 'Libero', 'A class', 'Solati', 'Terra', 'APV', 'Range Rover Velar', 'Crown', 'Corona', 'Discovery Sport', 'Ghibli', 'DB1021', 'DB X30', '911', 'Highlander', 'Outback', 'President', 'Genesis', 'Bentayga', 'Trailblazer', 'GS', 'Mustang', 'S90', 'Defender', 'Escalade', 'QX', 'Foton', 'XJ series', 'Tundra', 'Bongo', 'NQR', 'A5', 'NPR', 'Veloster', 'Quattroporte', 'One', 'Cullinan', 'Trooper', 'Terios', 'Juke', 'Q3', 'Universe', 'MB', 'Traveller']\n",
    "_BRANCH = ['Toyota', 'Hyundai', 'Kia', 'Ford', 'Mercedes Benz', 'Mazda', 'Honda', 'Mitsubishi', 'VinFast', 'Chevrolet', 'Lexus', 'BMW', 'Daewoo', 'Suzuki', 'Nissan', 'Porsche', 'LandRover', 'Isuzu', 'MG', 'Audi', 'Peugeot', 'Volkswagen', 'Hãng khác', 'Volvo', 'Thaco', 'Mini', 'Subaru', 'Bentley', 'Rolls Royce', 'Maserati', 'Jeep', 'Ssangyong', 'Daihatsu', 'Dongben', 'Fiat', 'Jaguar', 'Acura', 'Infiniti', 'Vinaxuki', 'Cadillac', 'Lincoln', 'Chrysler', 'Baic', 'Renault', 'JRD', 'Lamborghini', 'Chery', 'Luxgen', 'RAM']\n"
   ]
  },
  {
   "cell_type": "code",
   "execution_count": 36,
   "metadata": {},
   "outputs": [],
   "source": [
    "df = df.loc[df['color_exterior'] != '-']\n",
    "df = df.loc[df['color_furniture'] != '-']\n",
    "df['branch'] = df.branch.apply(lambda x: x if x in _BRANCH else 'other')\n",
    "df['_class'] = df._class.apply(lambda x: x if x in _CLASS else 'other')\n"
   ]
  },
  {
   "cell_type": "code",
   "execution_count": 37,
   "metadata": {},
   "outputs": [],
   "source": [
    "from sklearn.model_selection import train_test_split"
   ]
  },
  {
   "cell_type": "code",
   "execution_count": 38,
   "metadata": {},
   "outputs": [],
   "source": [
    "train_df, test_df = train_test_split(df, train_size=0.9, shuffle=True, random_state=43, stratify=df['branch'])\n",
    "   "
   ]
  },
  {
   "cell_type": "code",
   "execution_count": null,
   "metadata": {},
   "outputs": [],
   "source": []
  }
 ],
 "metadata": {
  "kernelspec": {
   "display_name": "mlops",
   "language": "python",
   "name": "python3"
  },
  "language_info": {
   "codemirror_mode": {
    "name": "ipython",
    "version": 3
   },
   "file_extension": ".py",
   "mimetype": "text/x-python",
   "name": "python",
   "nbconvert_exporter": "python",
   "pygments_lexer": "ipython3",
   "version": "3.10.9"
  },
  "orig_nbformat": 4,
  "vscode": {
   "interpreter": {
    "hash": "e1fdb4e7d6271879b3b6e964a1a6ed962823dbbfdebce8342fc7bbbeea701772"
   }
  }
 },
 "nbformat": 4,
 "nbformat_minor": 2
}
